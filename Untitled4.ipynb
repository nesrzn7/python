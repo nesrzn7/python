{
  "nbformat": 4,
  "nbformat_minor": 0,
  "metadata": {
    "colab": {
      "provenance": []
    },
    "kernelspec": {
      "name": "python3",
      "display_name": "Python 3"
    },
    "language_info": {
      "name": "python"
    }
  },
  "cells": [
    {
      "cell_type": "code",
      "execution_count": 24,
      "metadata": {
        "colab": {
          "base_uri": "https://localhost:8080/"
        },
        "id": "BJaCAgvwI1ul",
        "outputId": "1d0f50af-f943-4182-c4d3-d60c769a6223"
      },
      "outputs": [
        {
          "output_type": "stream",
          "name": "stdout",
          "text": [
            "Média: 19.066666666666666\n",
            "maior numero: 50\n",
            "menor numero: 3\n",
            "quantidade de numeros pares: 7\n"
          ]
        }
      ],
      "source": [
        "numeros = [10, 23, 5, 8, 12, 33, 42, 7, 19, 28, 3, 16, 9, 50, 21]\n",
        "soma = sum(numeros)\n",
        "contagem_de_numeros = len(numeros)\n",
        "maior = max(numeros)\n",
        "menor = min(numeros)\n",
        "def calcular():\n",
        "    media = soma / contagem_de_numeros\n",
        "    maior = max(numeros)\n",
        "    menor = min(numeros)\n",
        "    contador = 0\n",
        "    for numero in numeros:\n",
        "        if numero % 2 == 0:\n",
        "           contador += 1\n",
        "    return media, maior, menor, contador\n",
        "media1, maior1, menor1, contador1 = calcular()\n",
        "print(f\"Média: {media1}\")\n",
        "print(f\"maior numero: {maior1}\")\n",
        "print(f\"menor numero: {menor1}\")\n",
        "print(f\"quantidade de numeros pares: {contador1}\")"
      ]
    }
  ]
}